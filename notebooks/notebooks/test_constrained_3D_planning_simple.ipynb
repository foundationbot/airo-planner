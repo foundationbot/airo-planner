{
 "cells": [
  {
   "cell_type": "code",
   "execution_count": 1,
   "metadata": {},
   "outputs": [],
   "source": [
    "import numpy as np\n",
    "from ompl import base as ob\n",
    "from ompl import geometric as og\n",
    "from pydrake.planning import RobotDiagramBuilder\n",
    "from pydrake.math import RigidTransform\n",
    "from airo_drake import add_meshcat, finish_build, visualize_frame\n",
    "import airo_models\n",
    "from dataclasses import dataclass\n",
    "from ConstrainedPlanningCommon import ConstrainedProblem"
   ]
  },
  {
   "cell_type": "code",
   "execution_count": 2,
   "metadata": {},
   "outputs": [
    {
     "name": "stderr",
     "output_type": "stream",
     "text": [
      "INFO:drake:Meshcat listening for connections at http://localhost:7003\n",
      "LCM self test failed!!\n",
      "Check your routing tables and firewall settings\n"
     ]
    }
   ],
   "source": [
    "# Create the robot diagram builder\n",
    "robot_diagram_builder = RobotDiagramBuilder()\n",
    "\n",
    "# Add meshcat visualizer\n",
    "meshcat = add_meshcat(robot_diagram_builder)\n",
    "\n",
    "# Get plant and parser from the builder\n",
    "plant = robot_diagram_builder.plant()\n",
    "parser = robot_diagram_builder.parser()\n",
    "parser.SetAutoRenaming(True)\n",
    "\n",
    "# Create two cubes using airo_models\n",
    "cube1_size = (0.2, 0.2, 0.2)\n",
    "cube2_size = (0.2, 0.2, 0.2)\n",
    "cube1_urdf_path = airo_models.box_urdf_path(cube1_size, \"cube1\")\n",
    "cube2_urdf_path = airo_models.box_urdf_path(cube2_size, \"cube2\")\n",
    "\n",
    "# Add cubes to the scene\n",
    "cube1_index = parser.AddModels(cube1_urdf_path)[0]\n",
    "cube2_index = parser.AddModels(cube2_urdf_path)[0]\n",
    "\n",
    "# Position the cubes in space\n",
    "world_frame = plant.world_frame()\n",
    "cube1_frame = plant.GetFrameByName(\"base_link\", cube1_index)\n",
    "cube2_frame = plant.GetFrameByName(\"base_link\", cube2_index)\n",
    "\n",
    "# Set transforms for the cubes\n",
    "cube1_transform = RigidTransform(p=[0.5, 0.0, 0.3])  # Position cube1 at (0.5, 0, 0.3)\n",
    "cube2_transform = RigidTransform(p=[-0.5, 0.0, 0.3])  # Position cube2 at (-0.5, 0, 0.6)\n",
    "\n",
    "# Weld the cubes to the world frame at their positions\n",
    "plant.WeldFrames(world_frame, cube1_frame, cube1_transform)\n",
    "plant.WeldFrames(world_frame, cube2_frame, cube2_transform)\n",
    "\n",
    "# Finish building the scene\n",
    "robot_diagram, context = finish_build(robot_diagram_builder, meshcat)\n",
    "\n",
    "# Force publish to visualize\n",
    "robot_diagram.ForcedPublish(context)\n",
    "\n",
    "# Visualize the frames of the cubes\n",
    "visualize_frame(meshcat, \"cube1_frame\", cube1_transform, length=0.25)\n",
    "visualize_frame(meshcat, \"cube2_frame\", cube2_transform, length=0.25)"
   ]
  },
  {
   "cell_type": "code",
   "execution_count": 3,
   "metadata": {},
   "outputs": [],
   "source": [
    "# Define goal state\n",
    "goal_transform1 = RigidTransform(p=[-0.3, 0.4, 0.5])"
   ]
  },
  {
   "cell_type": "code",
   "execution_count": 4,
   "metadata": {},
   "outputs": [],
   "source": [
    "class TwoCubeConstraint(ob.Constraint):\n",
    "    def __init__(self, fixed_distance=1.0):\n",
    "        # 6 dimensions (3D position for each cube)\n",
    "        # 1 constraints: fixed distance only\n",
    "        super(TwoCubeConstraint, self).__init__(6, 1)\n",
    "        self.fixed_distance = fixed_distance\n",
    "        \n",
    "    def function(self, x, out):\n",
    "        # Extract positions of both cubes\n",
    "        p1 = x[:3]\n",
    "        p2 = x[3:]\n",
    "        \n",
    "        # Constraint 1: Fixed distance between cubes\n",
    "        dist = np.linalg.norm(p2 - p1)\n",
    "        out[0] = dist - self.fixed_distance\n",
    "        \n",
    "        return True"
   ]
  },
  {
   "cell_type": "code",
   "execution_count": 5,
   "metadata": {},
   "outputs": [
    {
     "name": "stdout",
     "output_type": "stream",
     "text": [
      "Start configuration distance: 1.0\n"
     ]
    }
   ],
   "source": [
    "# After setting start and goal states, but before solving:\n",
    "# Check what distance we actually need\n",
    "start_dist = np.linalg.norm(cube1_transform.translation() - cube2_transform.translation())\n",
    "print(f\"Start configuration distance: {start_dist}\")"
   ]
  },
  {
   "cell_type": "code",
   "execution_count": 6,
   "metadata": {},
   "outputs": [
    {
     "name": "stdout",
     "output_type": "stream",
     "text": [
      "Info:    Using Projection-Based State Space!\n"
     ]
    }
   ],
   "source": [
    "@dataclass\n",
    "class Options:\n",
    "    space: str = \"PJ\"  # Projection-based state space\n",
    "    planner: str = \"RRTConnect\"\n",
    "    delta: float = 0.1\n",
    "    lambda_: float = ob.CONSTRAINED_STATE_SPACE_LAMBDA\n",
    "    tolerance: float = 1e-3\n",
    "    time: float = 30.0\n",
    "    tries: int = ob.CONSTRAINT_PROJECTION_MAX_ITERATIONS\n",
    "    range: float = 0.0\n",
    "\n",
    "# Setup OMPL planning\n",
    "space = ob.RealVectorStateSpace(6)  # 6D state space (3D + 3D)\n",
    "\n",
    "# Set bounds for the space\n",
    "bounds = ob.RealVectorBounds(6)\n",
    "for i in range(6):\n",
    "    bounds.setLow(i, -2)  # Slightly larger than sphere radius\n",
    "    bounds.setHigh(i, 2)\n",
    "space.setBounds(bounds)\n",
    "\n",
    "# Create constraint and problem\n",
    "constraint = TwoCubeConstraint(fixed_distance=start_dist)\n",
    "options = Options()\n",
    "problem = ConstrainedProblem(options.space, space, constraint, options)\n",
    "\n",
    "# Set start and goal states\n",
    "start = ob.State(problem.css)\n",
    "goal = ob.State(problem.css)"
   ]
  },
  {
   "cell_type": "code",
   "execution_count": 7,
   "metadata": {},
   "outputs": [
    {
     "name": "stderr",
     "output_type": "stream",
     "text": [
      "Warning: State validity checker not set! No collision checking is performed\n",
      "         at line 67 in /project/src/ompl/base/src/SpaceInformation.cpp\n"
     ]
    },
    {
     "name": "stdout",
     "output_type": "stream",
     "text": [
      "Debug:   RRTConnect: Planner range detected to be 1.959592\n",
      "Info:    RRTConnect: Starting planning with 1 states already in datastructure\n",
      "Info:    RRTConnect: Created 36663 states (36662 start + 1 goal)\n",
      "Info:    ProblemDefinition: Adding approximate solution from planner RRTConnect\n",
      "Info:    Solution found in 30.086073 seconds\n",
      "Info:    Simplifying solution...\n",
      "Info:    SimpleSetup: Path simplification took 0.001461 seconds and changed from 7 to 2 states\n",
      "Info:    Simplified Path Length: 1.277 -> 1.277\n",
      "Info:    Interpolating path...\n",
      "Info:    Interpolating simplified path...\n",
      "Info:    Dumping path to `ompl_path.txt`.\n",
      "Info:    Dumping simplified path to `ompl_simplepath.txt`.\n"
     ]
    }
   ],
   "source": [
    "# Set start state (current position of cubes)\n",
    "start()[0] = cube1_transform.translation()[0]\n",
    "start()[1] = cube1_transform.translation()[1]\n",
    "start()[2] = cube1_transform.translation()[2]\n",
    "start()[3] = cube2_transform.translation()[0]\n",
    "start()[4] = cube2_transform.translation()[1]\n",
    "start()[5] = cube2_transform.translation()[2]\n",
    "\n",
    "# Set goal state\n",
    "goal()[0] = goal_transform1.translation()[0]\n",
    "goal()[1] = goal_transform1.translation()[1]\n",
    "goal()[2] = goal_transform1.translation()[2]\n",
    "goal()[5] = goal_transform1.translation()[2]\n",
    "\n",
    "problem.setStartAndGoalStates(start, goal)\n",
    "problem.setPlanner(options.planner)\n",
    "\n",
    "# Solve the problem\n",
    "def reset_visualization(meshcat):\n",
    "    \"\"\"Reset the visualization by clearing all frames except the cubes.\"\"\"\n",
    "    # Instead of meshcat.Delete(), we'll force publish the diagram again\n",
    "    robot_diagram.ForcedPublish(context)\n",
    "    \n",
    "    # Re-visualize the initial cube frames\n",
    "    visualize_frame(meshcat, \"cube1_frame\", cube1_transform, length=0.25)\n",
    "    visualize_frame(meshcat, \"cube2_frame\", cube2_transform, length=0.25)\n",
    "\n",
    "# Add this before your planning code\n",
    "reset_visualization(meshcat)\n",
    "\n",
    "solved = problem.solveOnce(output=True)\n",
    "\n",
    "if solved:\n",
    "    # Get the solution path\n",
    "    path = problem.ss.getSolutionPath()\n",
    "    path.interpolate()\n",
    "    \n",
    "    # Visualize the solution\n",
    "    for i in range(path.getStateCount()):\n",
    "        state = path.getState(i)\n",
    "        \n",
    "        # Create transforms for visualization\n",
    "        cube1_transform_i = RigidTransform(p=[state[0], state[1], state[2]])\n",
    "        cube2_transform_i = RigidTransform(p=[state[3], state[4], state[5]])\n",
    "        \n",
    "        # Visualize frames\n",
    "        visualize_frame(meshcat, f\"cube1_frame_{i}\", cube1_transform_i, length=0.15)\n",
    "        visualize_frame(meshcat, f\"cube2_frame_{i}\", cube2_transform_i, length=0.15)\n",
    "        \n",
    "        # Optional: add small delay to see motion\n",
    "        import time\n",
    "        time.sleep(0.1)\n",
    "else:\n",
    "    print(\"No solution found\")"
   ]
  },
  {
   "cell_type": "code",
   "execution_count": 8,
   "metadata": {},
   "outputs": [],
   "source": [
    "# Convert path to numpy array\n",
    "n_states = path.getStateCount()\n",
    "path_array = np.zeros((n_states, 6))  # 6 is the state dimension (3D + 3D)\n",
    "\n",
    "for i in range(n_states):\n",
    "    state = path.getState(i)\n",
    "    path_array[i] = np.array([state[j] for j in range(6)])"
   ]
  },
  {
   "cell_type": "code",
   "execution_count": 9,
   "metadata": {},
   "outputs": [
    {
     "name": "stdout",
     "output_type": "stream",
     "text": [
      "Last state: [-0.36265651  0.46595112  0.42181518  0.17686265 -0.36580251  0.55260114]\n",
      "Goal: [-0.3  0.4  0.5]\n"
     ]
    }
   ],
   "source": [
    "# Compare last state with goal\n",
    "last_state = path.getState(n_states - 1)\n",
    "last_state_array = np.array([last_state[j] for j in range(6)])\n",
    "print(f\"Last state: {last_state_array}\")\n",
    "print(f\"Goal: {goal_transform1.translation()}\")\n",
    "\n"
   ]
  },
  {
   "cell_type": "code",
   "execution_count": null,
   "metadata": {},
   "outputs": [],
   "source": []
  }
 ],
 "metadata": {
  "kernelspec": {
   "display_name": ".venv",
   "language": "python",
   "name": "python3"
  },
  "language_info": {
   "codemirror_mode": {
    "name": "ipython",
    "version": 3
   },
   "file_extension": ".py",
   "mimetype": "text/x-python",
   "name": "python",
   "nbconvert_exporter": "python",
   "pygments_lexer": "ipython3",
   "version": "3.10.16"
  }
 },
 "nbformat": 4,
 "nbformat_minor": 2
}
